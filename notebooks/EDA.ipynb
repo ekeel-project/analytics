{
 "cells": [
  {
   "cell_type": "markdown",
   "metadata": {},
   "source": [
    "#### Exploratory Data Analysis (EDA)\n",
    "\n",
    "This notebook outlines the EDA process applied to the logs dataset. It includes descriptive statistics, visualizations (histograms, box plots), correlation analysis (heatmap and pair plots), and dimensionality reduction using PCA. The aim is to identify redundant features, understand data distribution, and inform further feature selection for learning analytics.\n"
   ]
  },
  {
   "cell_type": "code",
   "execution_count": null,
   "metadata": {},
   "outputs": [],
   "source": [
    "# Importing libraries\n",
    "import pandas as pd\n",
    "import numpy as np\n",
    "import matplotlib.pyplot as plt\n",
    "import seaborn as sns\n",
    "from sklearn.decomposition import PCA\n",
    "from sklearn.preprocessing import StandardScaler\n",
    "\n",
    "# Load the dataset (assume CSV format)\n",
    "df = pd.read_csv('Mode2Logs.csv') # data converted to CSV for ease\n",
    "\n",
    "\n"
   ]
  },
  {
   "cell_type": "markdown",
   "metadata": {},
   "source": [
    "##### 1. Descriptive Statistics and Histograms\n",
    "\n",
    "This section provides a numerical summary of the dataset and visualizes the distribution of each feature using histograms.\n"
   ]
  },
  {
   "cell_type": "code",
   "execution_count": null,
   "metadata": {},
   "outputs": [],
   "source": [
    "# -------------------------------\n",
    "# a. Descriptive Statistics\n",
    "# -------------------------------\n",
    "print(\"Summary Statistics:\")\n",
    "print(df.describe())\n",
    "\n",
    "# Plotting histograms for each feature\n",
    "df.hist(figsize=(15, 10), bins=20)\n",
    "plt.suptitle(\"Histograms of Features\")\n",
    "plt.show()\n"
   ]
  },
  {
   "cell_type": "markdown",
   "metadata": {},
   "source": [
    "##### 2.1 Box Plots for Outlier Detection\n",
    "\n",
    "Box plots help us visualize the distribution, medians, and potential outliers for each feature. Note that features like `session_duration` and `avg_touch_play_duration` have a very high scale, which may compress the visualization of other features.\n"
   ]
  },
  {
   "cell_type": "code",
   "execution_count": null,
   "metadata": {},
   "outputs": [],
   "source": [
    "# Box plots to detect outliers\n",
    "plt.figure(figsize=(15, 5))\n",
    "sns.boxplot(data=df.drop(columns=['sessionID']))  # Exclude non-numeric or identifier columns\n",
    "plt.title(\"Box Plots for Features\")\n",
    "plt.xticks(rotation=90)\n",
    "plt.show()\n"
   ]
  },
  {
   "cell_type": "markdown",
   "metadata": {},
   "source": [
    "##### 2.2 Box Plots on Scaled Data\n",
    "\n",
    "By removing high-scale features such as `session_duration` and `avg_touch_play_duration`, we can observe a more balanced view of the remaining features.\n"
   ]
  },
  {
   "cell_type": "code",
   "execution_count": null,
   "metadata": {},
   "outputs": [],
   "source": [
    "\n",
    "# Box plots for Scaled data\n",
    "columns=['sessionID', 'session_duration','avg_touch_play_duration'] \n",
    "\n",
    "plt.figure(figsize=(15, 5))\n",
    "sns.boxplot(data=df.drop(columns=columns))  # exclude high-scale features\n",
    "plt.title(\"Box Plots for Features\")\n",
    "plt.xticks(rotation=90)\n",
    "plt.show()\n"
   ]
  },
  {
   "cell_type": "markdown",
   "metadata": {},
   "source": [
    "##### 3. Correlation Analysis\n",
    "\n",
    "Correlation analysis helps to identify linear relationships between features. We use a heatmap and pair plots to visualize these relationships.\n"
   ]
  },
  {
   "cell_type": "code",
   "execution_count": null,
   "metadata": {},
   "outputs": [],
   "source": [
    "\n",
    "# -------------------------------\n",
    "# b. Correlation Analysis\n",
    "# -------------------------------\n",
    "# Compute correlation matrix\n",
    "corr_matrix = df.drop(columns=['sessionID']).corr()\n",
    "plt.figure(figsize=(12, 10))\n",
    "sns.heatmap(corr_matrix, annot=True, cmap='coolwarm', fmt=\".2f\")\n",
    "plt.title(\"Correlation Heatmap\")\n",
    "plt.show()\n",
    "\n"
   ]
  },
  {
   "cell_type": "markdown",
   "metadata": {},
   "source": [
    "##### Pair Plots\n",
    "\n",
    "Pair plots visualize the relationships and distributions between pairs of features. They provide a complementary view to the heatmap and help reveal non-linear relationships and data clusters.\n"
   ]
  },
  {
   "cell_type": "code",
   "execution_count": null,
   "metadata": {},
   "outputs": [],
   "source": [
    "# Pair plots (for a subset of features if there are too many)\n",
    "sns.pairplot(df.drop(columns=['sessionID']).iloc[:, :8])  # using the first 8 features for clarity\n",
    "plt.suptitle(\"Pair Plots for Selected Features\", y=1.02)\n",
    "plt.show()\n"
   ]
  },
  {
   "cell_type": "markdown",
   "metadata": {},
   "source": [
    "##### 4. Dimensionality Reduction using PCA\n",
    "\n",
    "Principal Component Analysis (PCA) reduces the number of features by transforming them into principal components that capture most of the variance in the data. Standardization is performed to ensure each feature contributes equally.\n"
   ]
  },
  {
   "cell_type": "code",
   "execution_count": null,
   "metadata": {},
   "outputs": [],
   "source": [
    "# -------------------------------\n",
    "# c. Dimensionality Reduction: PCA\n",
    "# -------------------------------\n",
    "# Select features (excluding sessionID)\n",
    "features = df.drop(columns=['sessionID']).columns\n",
    "X = df[features].fillna(0).values  # fill missing values if any\n",
    "\n",
    "# Standardize the data (important for PCA)\n",
    "scaler = StandardScaler()\n",
    "X_scaled = scaler.fit_transform(X)\n",
    "\n",
    "# Apply PCA\n",
    "pca = PCA(n_components=5)  # Adjust the number of components based on explained variance\n",
    "principal_components = pca.fit_transform(X_scaled)\n",
    "\n",
    "print(\"Explained Variance Ratio for PCA components:\")\n",
    "print(pca.explained_variance_ratio_)\n",
    "\n",
    "# Visualize the first two principal components\n",
    "plt.figure(figsize=(8, 6))\n",
    "plt.scatter(principal_components[:, 0], principal_components[:, 1], alpha=0.7)\n",
    "plt.xlabel(\"Principal Component 1\")\n",
    "plt.ylabel(\"Principal Component 2\")\n",
    "plt.title(\"PCA: PC1 vs PC2\")\n",
    "plt.show()\n"
   ]
  },
  {
   "cell_type": "markdown",
   "metadata": {},
   "source": [
    "#### Summary\n",
    "\n",
    "In this notebook, we conducted an in-depth EDA on VR session logs. We:\n",
    "- Analyzed descriptive statistics to understand the basic distribution of features.\n",
    "- Used histograms and box plots to identify outliers and evaluate feature scales.\n",
    "- Applied correlation analysis (via heatmaps and pair plots) to reveal relationships among features.\n",
    "- Performed PCA for dimensionality reduction, revealing clusters that may inform further user segmentation and feature selection for learning analytics.\n",
    "\n",
    "These steps help ensure that our subsequent analysis and model-building are based on a robust understanding of the data.\n"
   ]
  },
  {
   "cell_type": "code",
   "execution_count": null,
   "metadata": {},
   "outputs": [],
   "source": [
    "html_table = df.describe().T.to_html()\n",
    "\n",
    "with open(\"Feature_describe.html\", \"w\") as f:\n",
    "    f.write(html_table)"
   ]
  }
 ],
 "metadata": {
  "kernelspec": {
   "display_name": "Python 3",
   "language": "python",
   "name": "python3"
  },
  "language_info": {
   "codemirror_mode": {
    "name": "ipython",
    "version": 3
   },
   "file_extension": ".py",
   "mimetype": "text/x-python",
   "name": "python",
   "nbconvert_exporter": "python",
   "pygments_lexer": "ipython3",
   "version": "3.10.1"
  }
 },
 "nbformat": 4,
 "nbformat_minor": 2
}
