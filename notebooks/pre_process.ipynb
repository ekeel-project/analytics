{
 "cells": [
  {
   "cell_type": "markdown",
   "metadata": {},
   "source": [
    "##### Pre-Processing of Log files\n",
    "\n",
    "We process txt log files from VR sessions and convert them to CSV files"
   ]
  },
  {
   "cell_type": "code",
   "execution_count": null,
   "metadata": {},
   "outputs": [],
   "source": [
    "import pandas as pd\n",
    "import glob"
   ]
  },
  {
   "cell_type": "code",
   "execution_count": null,
   "metadata": {},
   "outputs": [],
   "source": [
    "txt_files = glob.glob(\"Logs_ekeel/*.txt\")  # just replace the directory since we are loading all the files\n",
    "# txt_files"
   ]
  },
  {
   "cell_type": "code",
   "execution_count": null,
   "metadata": {},
   "outputs": [],
   "source": [
    "for file in txt_files:\n",
    "\n",
    "    col_names = ['Timestamp', 'Action', 'ActionID', 'Direction']   # change headers if any additions in the logs\n",
    "    df = pd.read_csv(file, delimiter=\",\", header=None, names=col_names)  \n",
    "    \n",
    "    \n",
    "    csv_file = file.replace(\".txt\", \".csv\")\n",
    "    \n",
    "    # Save as CSV in the same folder\n",
    "    df.to_csv(csv_file, index=False)\n"
   ]
  },
  {
   "cell_type": "code",
   "execution_count": null,
   "metadata": {},
   "outputs": [],
   "source": [
    "csv_files = glob.glob(\"Logs_ekeel/*.csv\")  \n",
    "# csv_files"
   ]
  },
  {
   "cell_type": "markdown",
   "metadata": {},
   "source": [
    "##### Feature Extraction from Log Files for Learning Analytics\n",
    "\n",
    "In the next section, we process data from CSV log files and extract meaningful features.\n",
    "Each log file represents a session, and the session ID is derived from the file name.\n"
   ]
  },
  {
   "cell_type": "code",
   "execution_count": 2,
   "metadata": {},
   "outputs": [
    {
     "name": "stdout",
     "output_type": "stream",
     "text": [
      " sessionID  session_duration  count_Teleport  count_Grab  count_Release  count_PlayVideo  count_Pause  count_Resume  count_Touch  unique_concepts_touched  touch_play_count  grab_release_count  avg_touch_play_duration  concept_servizio  concept_fornitore_del_servizio  concept_livello_fisico  concept_caratteristica  concept_IaaS  concept_risorse_hardware  concept_infrastruttura_cloud  concept_On-Premises  concept_SaaS  concept_modello_di_cloud  concept_PaaS  concept_cloud_computing  concept_software  concept_livello_astratto\n",
      "Userlogs07          1295.355              14           7              7                2            2             1            3                        2                 7                   7                13.666667                 0                               0                       0                       0             1                         0                             0                    0             2                         0             0                        0                 0                         0\n",
      "Userlogs08           549.949               9           1              1                4            0             0            0                        0                 0                   1                      NaN                 0                               0                       0                       0             0                         0                             0                    0             0                         0             0                        0                 0                         0\n",
      "Userlogs09           794.494              14           5              5                8            4             1            1                        1                 2                   5                21.404000                 0                               0                       0                       0             0                         1                             0                    0             0                         0             0                        0                 0                         0\n",
      "Userlogs10           801.434              35           4              4                4            4             1           14                        8                19                   4               189.653500                 0                               0                       0                       3             1                         1                             1                    0             1                         2             2                        0                 3                         0\n",
      "Userlogs11           800.019              19           2              2                5            4             1            5                        3                10                   2                27.766600                 0                               0                       0                       3             0                         0                             0                    0             0                         1             0                        1                 0                         0\n"
     ]
    }
   ],
   "source": [
    "import pandas as pd\n",
    "import os\n",
    "import glob\n",
    "from datetime import datetime\n",
    "\n",
    "# Function to parse the custom timestamp format\n",
    "def parse_timestamp(ts):\n",
    "    \"\"\"\n",
    "    Converts a timestamp string into a datetime object.\n",
    "    Expected format: \"YYYY-MM-DD-HH:MM:SS:fff\"\n",
    "    \"\"\"\n",
    "    return datetime.strptime(ts, \"%Y-%m-%d-%H:%M:%S:%f\")\n",
    "\n",
    "# Function to extract features from a single log file\n",
    "def extract_features(file_path):\n",
    "    \"\"\"\n",
    "    Reads a log file, converts timestamps, sorts events,\n",
    "    and extracts various features including session duration, event counts,\n",
    "    unique concept interactions, and average duration between a Touch and a PlayAnnotation.\n",
    "    \"\"\"\n",
    "    # Read CSV file into DataFrame\n",
    "    df = pd.read_csv(file_path)\n",
    "    \n",
    "    # Convert the 'Timestamp' column from string to datetime and sort the DataFrame\n",
    "    df[\"Timestamp\"] = pd.to_datetime(df[\"Timestamp\"], format=\"%Y-%m-%d-%H:%M:%S:%f\")\n",
    "    df = df.sort_values(\"Timestamp\")\n",
    "\n",
    "    \n",
    "    # -----------------------\n",
    "    # Basic Feature Extraction:\n",
    "    # -----------------------\n",
    "\n",
    "    \n",
    "    # Calculate session duration in seconds (time between first and last event)\n",
    "    session_duration = (df[\"Timestamp\"].iloc[-1] - df[\"Timestamp\"].iloc[0]).total_seconds()\n",
    "    \n",
    "    # Get counts of each action as a dictionary\n",
    "    action_counts = df[\"Action\"].value_counts().to_dict()\n",
    "    \n",
    "    # Count total Touch events\n",
    "    count_touch = action_counts.get(\"Touch\", 0)\n",
    "    \n",
    "    # Count unique concepts touched (from ActionID in Touch events)\n",
    "    unique_concepts = df[df[\"Action\"] == \"Touch\"][\"ActionID\"].nunique()\n",
    "    \n",
    "    # Per-concept counts for Touch events (counts per concept identifier)\n",
    "    concept_counts = df[df[\"Action\"] == \"Touch\"][\"ActionID\"].value_counts().to_dict()\n",
    "    \n",
    "    # Count of combined Touch and PlayAnnotation events\n",
    "    touch_play_count = len(df[(df[\"Action\"] == \"Touch\") | (df[\"Action\"] == \"PlayAnnotation\")])\n",
    "    \n",
    "    # Count of Grab-Release pairs (use the minimum count to represent complete pairs)\n",
    "    grab_release_count = min(action_counts.get(\"Grab\", 0), action_counts.get(\"Release\", 0))\n",
    "    \n",
    "\n",
    "    # -----------------------\n",
    "    # Duration Between Touch and PlayAnnotation:\n",
    "    # -----------------------\n",
    "\n",
    "    # Calculate duration between each Touch event and the next PlayAnnotation event\n",
    "    touch_play_durations = []\n",
    "    # Filter for Touch events to iterate over.\n",
    "    touch_events = df[df[\"Action\"] == \"Touch\"]\n",
    "    for _, touch in touch_events.iterrows():\n",
    "        # For each Touch event, find the first PlayAnnotation event that occurs after it.\n",
    "        subsequent_play = df[(df[\"Action\"] == \"PlayAnnotation\") & (df[\"Timestamp\"] > touch[\"Timestamp\"])]\n",
    "        if not subsequent_play.empty:\n",
    "            # Calculate the time difference (in seconds) and append it to the list.\n",
    "            duration = (subsequent_play.iloc[0][\"Timestamp\"] - touch[\"Timestamp\"]).total_seconds()\n",
    "            touch_play_durations.append(duration)\n",
    "    # Calculate the average duration if there are any durations recorded; otherwise, use None.\n",
    "    avg_touch_play_duration = (sum(touch_play_durations) / len(touch_play_durations)) if touch_play_durations else None\n",
    "\n",
    "\n",
    "    # Create a dictionary of extracted features\n",
    "    features = {\n",
    "        \"session_duration\": session_duration,\n",
    "        \"count_Teleport\": action_counts.get(\"Teleport\", 0),\n",
    "        \"count_Grab\": action_counts.get(\"Grab\", 0),\n",
    "        \"count_Release\": action_counts.get(\"Release\", 0),\n",
    "        \"count_PlayVideo\": action_counts.get(\"PlayVideo\", 0),\n",
    "        \"count_Pause\": action_counts.get(\"Pause\", 0),\n",
    "        \"count_Resume\": action_counts.get(\"Resume\", 0),\n",
    "        \"count_Touch\": count_touch,\n",
    "        \"unique_concepts_touched\": unique_concepts,\n",
    "        \"touch_play_count\": touch_play_count,\n",
    "        \"grab_release_count\": grab_release_count,\n",
    "        \"avg_touch_play_duration\": avg_touch_play_duration,\n",
    "        \"concept_counts\": concept_counts  # To be expanded into separate columns later\n",
    "    }\n",
    "    return features\n",
    "\n",
    "\n",
    "# -----------------------\n",
    "# Main Processing:\n",
    "# -----------------------\n",
    "\n",
    "# Process all CSV log files and collect features for each session\n",
    "file_list = glob.glob(\"Logs_ekeel/*.csv\")\n",
    "all_concepts = set()  # Collect all unique concept identifiers across sessions\n",
    "session_features = []\n",
    "\n",
    "for file in file_list:\n",
    "    feats = extract_features(file)\n",
    "    # Extract sessionID from file name using os.path.basename for compatibility\n",
    "    session_id = os.path.basename(file).split(\".\")[0]\n",
    "    feats[\"sessionID\"] = session_id\n",
    "    session_features.append(feats)\n",
    "    all_concepts.update(feats[\"concept_counts\"].keys())\n",
    "\n",
    "\n",
    "# -----------------------\n",
    "# Create a final DataFrame with one row per session.\n",
    "# -----------------------\n",
    "\n",
    "# Build the final features DataFrame: one row per session with each concept as a separate column\n",
    "features_list = []\n",
    "for feats in session_features:\n",
    "    record = {\n",
    "        \"sessionID\": feats[\"sessionID\"],\n",
    "        \"session_duration\": feats[\"session_duration\"],\n",
    "        \"count_Teleport\": feats[\"count_Teleport\"],\n",
    "        \"count_Grab\": feats[\"count_Grab\"],\n",
    "        \"count_Release\": feats[\"count_Release\"],\n",
    "        \"count_PlayVideo\": feats[\"count_PlayVideo\"],\n",
    "        \"count_Pause\": feats[\"count_Pause\"],\n",
    "        \"count_Resume\": feats[\"count_Resume\"],\n",
    "        \"count_Touch\": feats[\"count_Touch\"],\n",
    "        \"unique_concepts_touched\": feats[\"unique_concepts_touched\"],\n",
    "        \"touch_play_count\": feats[\"touch_play_count\"],\n",
    "        \"grab_release_count\": feats[\"grab_release_count\"],\n",
    "        \"avg_touch_play_duration\": feats[\"avg_touch_play_duration\"]\n",
    "    }\n",
    "    # Add a column for each unique concept encountered across all sessions\n",
    "    for concept in all_concepts:\n",
    "        # If a concept was not interacted with in the session, default the count to 0\n",
    "        record[concept] = feats[\"concept_counts\"].get(concept, 0)\n",
    "    features_list.append(record)\n",
    "\n",
    "# Create a DataFrame from the list of session records\n",
    "features_df = pd.DataFrame(features_list)\n",
    "\n",
    "# -----------------------\n",
    "# Display the head of the final DataFrame in a copy-paste friendly format\n",
    "# -----------------------\n",
    "print(features_df.head().to_string(index=False))\n"
   ]
  },
  {
   "cell_type": "markdown",
   "metadata": {},
   "source": [
    "The following code converts the DataFrame into an HTML table and saves it as \"Feature_head.html\". This makes it easier to view in a browser and capture high-quality screenshots."
   ]
  },
  {
   "cell_type": "code",
   "execution_count": 3,
   "metadata": {},
   "outputs": [],
   "source": [
    "# to export the entire DataFrame instead of just the first few rows, \n",
    "# replace features_df.head() with features_df\n",
    "\n",
    "html_table = features_df.head().T.to_html()\n",
    "\n",
    "with open(\"Feature_head.html\", \"w\") as f:\n",
    "    f.write(html_table)"
   ]
  },
  {
   "cell_type": "markdown",
   "metadata": {},
   "source": [
    "##### Explanation of the Notebook\n",
    "\n",
    "- **parse_timestamp:** Converts the custom timestamp string into a datetime object.\n",
    "- **extract_features:** Reads a single log file, sorts events chronologically, and extracts key features such as session duration, event counts, unique concept interactions, and durations between Touch and PlayAnnotation events.\n",
    "- **Main Processing:**  \n",
    "  - Uses glob to collect all CSV files from the 'Logs_ekeel' folder. \n",
    "  - Extracts session features for each file and collects all unique concept identifiers.\n",
    "  - Builds a final DataFrame where each row represents a session, with individual columns for overall metrics and separate columns for each concept.\n",
    "- **Output:**  \n",
    "  The head of the final DataFrame is printed in a format that is suitable for copying into a report or taking a screen grab.\n"
   ]
  },
  {
   "cell_type": "markdown",
   "metadata": {},
   "source": [
    "Saving the dataframe as csv for future analysis"
   ]
  },
  {
   "cell_type": "code",
   "execution_count": null,
   "metadata": {},
   "outputs": [],
   "source": [
    "# Save to CSV file\n",
    "features_df.to_csv(\"Mode2Logs.csv\", index=False)  # Set index=False to exclude row indices"
   ]
  },
  {
   "cell_type": "code",
   "execution_count": null,
   "metadata": {},
   "outputs": [],
   "source": []
  }
 ],
 "metadata": {
  "kernelspec": {
   "display_name": "Python 3",
   "language": "python",
   "name": "python3"
  },
  "language_info": {
   "codemirror_mode": {
    "name": "ipython",
    "version": 3
   },
   "file_extension": ".py",
   "mimetype": "text/x-python",
   "name": "python",
   "nbconvert_exporter": "python",
   "pygments_lexer": "ipython3",
   "version": "3.10.1"
  }
 },
 "nbformat": 4,
 "nbformat_minor": 2
}
